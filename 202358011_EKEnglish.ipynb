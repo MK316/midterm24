{
  "nbformat": 4,
  "nbformat_minor": 0,
  "metadata": {
    "colab": {
      "provenance": [],
      "include_colab_link": true
    },
    "kernelspec": {
      "name": "python3",
      "display_name": "Python 3"
    },
    "language_info": {
      "name": "python"
    }
  },
  "cells": [
    {
      "cell_type": "markdown",
      "metadata": {
        "id": "view-in-github",
        "colab_type": "text"
      },
      "source": [
        "<a href=\"https://colab.research.google.com/github/MK316/midterm24/blob/main/202358011_EKEnglish.ipynb\" target=\"_parent\"><img src=\"https://colab.research.google.com/assets/colab-badge.svg\" alt=\"Open In Colab\"/></a>"
      ]
    },
    {
      "cell_type": "markdown",
      "source": [
        "# 🌀Midterm 2024:Jeongsook Kwon(202358011)"
      ],
      "metadata": {
        "id": "GaWB0XSNv50u"
      }
    },
    {
      "cell_type": "markdown",
      "source": [
        "## Name Question (😍 We need to use input function for this question. See the code added below yours)"
      ],
      "metadata": {
        "id": "HLQ6K4D-yPxe"
      }
    },
    {
      "cell_type": "code",
      "source": [
        "# 'Name question'\n",
        "x = \"My name is\"\n",
        "y = \"Jeongsook.\"\n",
        "print(x,y)\n"
      ],
      "metadata": {
        "colab": {
          "base_uri": "https://localhost:8080/"
        },
        "id": "qm6P7EyDyltr",
        "outputId": "6a5eb966-ce06-42f4-d989-a967aedcd8f6"
      },
      "execution_count": 1,
      "outputs": [
        {
          "output_type": "stream",
          "name": "stdout",
          "text": [
            "My name is Jeongsook.\n"
          ]
        }
      ]
    },
    {
      "cell_type": "code",
      "source": [
        "# 'Name question'\n",
        "x = \"My name is\"\n",
        "y = input()   #Jeongsook <= you can type this when the interactive box appears.\n",
        "print(x,y)"
      ],
      "metadata": {
        "id": "gLgtHk-hsiJf",
        "outputId": "9cbf8c3d-5047-452d-a7c4-84c803616f80",
        "colab": {
          "base_uri": "https://localhost:8080/"
        }
      },
      "execution_count": 2,
      "outputs": [
        {
          "output_type": "stream",
          "name": "stdout",
          "text": [
            "Jeongsook\n",
            "My name is Jeongsook\n"
          ]
        }
      ]
    },
    {
      "cell_type": "code",
      "source": [
        "# To add a period at the end:\n",
        "\n",
        "x = \"My name is\"\n",
        "y = input()   #Jeongsook <= you can type this when the interactive box appears.\n",
        "print(x,y+\".\")"
      ],
      "metadata": {
        "id": "Ia6on9mHsse8",
        "outputId": "807404ad-76ab-470e-91d6-a54038ca457b",
        "colab": {
          "base_uri": "https://localhost:8080/"
        }
      },
      "execution_count": 3,
      "outputs": [
        {
          "output_type": "stream",
          "name": "stdout",
          "text": [
            "Mary\n",
            "My name is Mary.\n"
          ]
        }
      ]
    },
    {
      "cell_type": "markdown",
      "source": [
        "## Variable Question (😍 Yes, your code works. However, for a simpler one, consider the code added below)"
      ],
      "metadata": {
        "id": "riEGtFowzXaE"
      }
    },
    {
      "cell_type": "code",
      "source": [
        "# 'Marry, 1998, Ohio: and John, 1999, Boston.'\n",
        "x=input('Name:');y=input('born in:');z=input('hometown:')\n",
        "print(f\"Hello my name is, {x}!\"), print(f\"I was born in, {y}\")\n",
        "print(f\"I'm from, {z}\")\n",
        "print(\"Nice to meet you!\")"
      ],
      "metadata": {
        "colab": {
          "base_uri": "https://localhost:8080/"
        },
        "id": "Hk77crpWznje",
        "outputId": "c8c9577c-ed91-4ca4-9b8f-80303dc96277"
      },
      "execution_count": 4,
      "outputs": [
        {
          "output_type": "stream",
          "name": "stdout",
          "text": [
            "Name:Mary\n",
            "born in:1998\n",
            "hometown:Ohio\n",
            "Hello my name is, Mary!\n",
            "I was born in, 1998\n",
            "I'm from, Ohio\n",
            "Nice to meet you!\n"
          ]
        }
      ]
    },
    {
      "cell_type": "code",
      "source": [
        "# 'Marry, 1998, Ohio: and John, 1999, Boston.'\n",
        "x=input('Name:');y=input('born in:');z=input('hometown:')\n",
        "\n",
        "print(f\"Hello my name is, {x}! I was born in, {y}. I'm from, {z}. Nice to meet you!\")"
      ],
      "metadata": {
        "id": "NvBjsN2XtEfj",
        "outputId": "2b4e8b91-33a3-4bd5-d00e-5da2b4a74c24",
        "colab": {
          "base_uri": "https://localhost:8080/"
        }
      },
      "execution_count": 5,
      "outputs": [
        {
          "output_type": "stream",
          "name": "stdout",
          "text": [
            "Name:Mary\n",
            "born in:1998\n",
            "hometown:Ohio\n",
            "Hello my name is, Mary! I was born in, 1998. I'm from, Ohio. Nice to meet you!\n"
          ]
        }
      ]
    },
    {
      "cell_type": "markdown",
      "source": [
        "## Index Question (😍 Great job!)"
      ],
      "metadata": {
        "id": "TOoHc1sl5l6u"
      }
    },
    {
      "cell_type": "code",
      "source": [],
      "metadata": {
        "id": "II-MBgDH7ATC"
      },
      "execution_count": null,
      "outputs": []
    },
    {
      "cell_type": "code",
      "source": [
        "# Dropdown\n",
        "\n",
        "cardinal_number = \"1\" #@param = [\"1\",\"2\",\"3\",\"4\"]\n",
        "\n",
        "# Add one line of code below\n",
        "cardinal_number = int(cardinal_number)\n",
        "ordinal_number = int(cardinal_number - 1)\n",
        "\n",
        "# Ordinal expression as a list\n",
        "\n",
        "words = [\"First\",\"Second\",\"Third\",\"Fourth\"]\n",
        "\n",
        "print(\"The ordinal expression:\", words[ordinal_number])"
      ],
      "metadata": {
        "id": "C11U4A9cmwYa",
        "colab": {
          "base_uri": "https://localhost:8080/"
        },
        "outputId": "58553ce3-2d07-4e75-d899-42668d38de79",
        "cellView": "form"
      },
      "execution_count": 6,
      "outputs": [
        {
          "output_type": "stream",
          "name": "stdout",
          "text": [
            "The ordinal expression: First\n"
          ]
        }
      ]
    },
    {
      "cell_type": "markdown",
      "source": [
        "## GTTS Question (😍 Question to you. Which one is better between installing gTTS in one code cell and installing it in a separate code cell?)"
      ],
      "metadata": {
        "id": "la8xkq98Aypi"
      }
    },
    {
      "cell_type": "code",
      "execution_count": 7,
      "metadata": {
        "id": "XxAv_c45ed4T",
        "colab": {
          "base_uri": "https://localhost:8080/",
          "height": 249
        },
        "outputId": "bff87efe-87e3-4f5b-dacc-42cd72f01ba4"
      },
      "outputs": [
        {
          "output_type": "stream",
          "name": "stdout",
          "text": [
            "Collecting gTTS\n",
            "  Downloading gTTS-2.5.1-py3-none-any.whl (29 kB)\n",
            "Requirement already satisfied: requests<3,>=2.27 in /usr/local/lib/python3.10/dist-packages (from gTTS) (2.31.0)\n",
            "Requirement already satisfied: click<8.2,>=7.1 in /usr/local/lib/python3.10/dist-packages (from gTTS) (8.1.7)\n",
            "Requirement already satisfied: charset-normalizer<4,>=2 in /usr/local/lib/python3.10/dist-packages (from requests<3,>=2.27->gTTS) (3.3.2)\n",
            "Requirement already satisfied: idna<4,>=2.5 in /usr/local/lib/python3.10/dist-packages (from requests<3,>=2.27->gTTS) (3.7)\n",
            "Requirement already satisfied: urllib3<3,>=1.21.1 in /usr/local/lib/python3.10/dist-packages (from requests<3,>=2.27->gTTS) (2.0.7)\n",
            "Requirement already satisfied: certifi>=2017.4.17 in /usr/local/lib/python3.10/dist-packages (from requests<3,>=2.27->gTTS) (2024.2.2)\n",
            "Installing collected packages: gTTS\n",
            "Successfully installed gTTS-2.5.1\n"
          ]
        },
        {
          "output_type": "display_data",
          "data": {
            "text/plain": [
              "<IPython.lib.display.Audio object>"
            ],
            "text/html": [
              "\n",
              "                <audio  controls=\"controls\" autoplay=\"autoplay\">\n",
              "                    <source src=\"data:audio/mpeg;base64,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\" type=\"audio/mpeg\" />\n",
              "                    Your browser does not support the audio element.\n",
              "                </audio>\n",
              "              "
            ]
          },
          "metadata": {}
        }
      ],
      "source": [
        "# First, install the gTTS library if you haven't already\n",
        "!pip install gTTS\n",
        "\n",
        "# Import the gTTS library\n",
        "from gtts import gTTS\n",
        "\n",
        "# Import IPython display module\n",
        "from IPython.display import Audio, display\n",
        "# Text to be converted to speech\n",
        "text = \"This is a test message.\"\n",
        "\n",
        "# Language in which you want to convert\n",
        "language = 'en'\n",
        "\n",
        "# Pass the text and language to the gTTS module\n",
        "speech = gTTS(text=text, lang=language, slow=False)\n",
        "\n",
        "# Save the converted audio file\n",
        "speech.save(\"output.mp3\")\n",
        "\n",
        "# Display the audio directly in the notebook\n",
        "display(Audio(\"output.mp3\", autoplay=True))"
      ]
    },
    {
      "cell_type": "markdown",
      "source": [
        "😍 You're supposed to use input function for this question too. So, change one line below"
      ],
      "metadata": {
        "id": "kGOXV-SgtrME"
      }
    },
    {
      "cell_type": "code",
      "source": [
        "# Text to be converted to speech\n",
        "text = input()   #😍 This is what's changed.\n",
        "\n",
        "# Language in which you want to convert\n",
        "language = 'en'\n",
        "\n",
        "# Pass the text and language to the gTTS module\n",
        "speech = gTTS(text=text, lang=language, slow=False)\n",
        "\n",
        "# Save the converted audio file\n",
        "speech.save(\"output.mp3\")\n",
        "\n",
        "# Display the audio directly in the notebook\n",
        "display(Audio(\"output.mp3\", autoplay=True))"
      ],
      "metadata": {
        "id": "k2Wz2LdPtp8n",
        "outputId": "21017341-b933-4927-b907-868de586e962",
        "colab": {
          "base_uri": "https://localhost:8080/",
          "height": 92
        }
      },
      "execution_count": 8,
      "outputs": [
        {
          "name": "stdout",
          "output_type": "stream",
          "text": [
            "See how this differs from your code?\n"
          ]
        },
        {
          "output_type": "display_data",
          "data": {
            "text/plain": [
              "<IPython.lib.display.Audio object>"
            ],
            "text/html": [
              "\n",
              "                <audio  controls=\"controls\" autoplay=\"autoplay\">\n",
              "                    <source src=\"data:audio/mpeg;base64,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\" type=\"audio/mpeg\" />\n",
              "                    Your browser does not support the audio element.\n",
              "                </audio>\n",
              "              "
            ]
          },
          "metadata": {}
        }
      ]
    },
    {
      "cell_type": "markdown",
      "source": [
        "## Function Question (😍Good job!)"
      ],
      "metadata": {
        "id": "ihsm-5b8CsM7"
      }
    },
    {
      "cell_type": "code",
      "source": [
        "# Define a function for multiplication\n",
        "def devide(x, y):\n",
        "    return x / y\n",
        "\n",
        "# Test the function\n",
        "result = devide(20, 4)\n",
        "print(\"The result of multiplication is:\", result)"
      ],
      "metadata": {
        "id": "WbA_RrhWlYLC",
        "colab": {
          "base_uri": "https://localhost:8080/"
        },
        "outputId": "139c8d87-26cd-47ee-9f94-255807139f43"
      },
      "execution_count": 9,
      "outputs": [
        {
          "output_type": "stream",
          "name": "stdout",
          "text": [
            "The result of multiplication is: 5.0\n"
          ]
        }
      ]
    },
    {
      "cell_type": "markdown",
      "source": [
        "## Dictionary Question (😍 See my codes below)"
      ],
      "metadata": {
        "id": "UIrkmlLKDX0d"
      }
    },
    {
      "cell_type": "code",
      "source": [
        "# Define the dictionary 'grades'\n",
        "grades = {'Alice': 85, 'Bob': 90, 'Charlie': 75}\n",
        "\n",
        "# Print Bob's grade\n",
        "print(grades['Bob'])"
      ],
      "metadata": {
        "id": "INXJ5_bPuG6w",
        "outputId": "8414c317-dccf-4f92-c561-e30f6ee78e8e",
        "colab": {
          "base_uri": "https://localhost:8080/"
        }
      },
      "execution_count": 10,
      "outputs": [
        {
          "output_type": "stream",
          "name": "stdout",
          "text": [
            "90\n"
          ]
        }
      ]
    },
    {
      "cell_type": "markdown",
      "source": [
        "## Audio Question"
      ],
      "metadata": {
        "id": "RPaN1SJtDxWU"
      }
    },
    {
      "cell_type": "code",
      "source": [
        "# First, install the gTTS library if you haven't already\n",
        "!pip install gTTS\n",
        "\n",
        "# Import the gTTS library\n",
        "from gtts import gTTS\n",
        "\n",
        "# Import IPython display module\n",
        "from IPython.display import Audio, display\n"
      ],
      "metadata": {
        "id": "6BkSZ3yCfobt",
        "outputId": "80a881c2-be35-4cae-abba-8b29676bdba9",
        "colab": {
          "base_uri": "https://localhost:8080/"
        }
      },
      "execution_count": 11,
      "outputs": [
        {
          "output_type": "stream",
          "name": "stdout",
          "text": [
            "Requirement already satisfied: gTTS in /usr/local/lib/python3.10/dist-packages (2.5.1)\n",
            "Requirement already satisfied: requests<3,>=2.27 in /usr/local/lib/python3.10/dist-packages (from gTTS) (2.31.0)\n",
            "Requirement already satisfied: click<8.2,>=7.1 in /usr/local/lib/python3.10/dist-packages (from gTTS) (8.1.7)\n",
            "Requirement already satisfied: charset-normalizer<4,>=2 in /usr/local/lib/python3.10/dist-packages (from requests<3,>=2.27->gTTS) (3.3.2)\n",
            "Requirement already satisfied: idna<4,>=2.5 in /usr/local/lib/python3.10/dist-packages (from requests<3,>=2.27->gTTS) (3.7)\n",
            "Requirement already satisfied: urllib3<3,>=1.21.1 in /usr/local/lib/python3.10/dist-packages (from requests<3,>=2.27->gTTS) (2.0.7)\n",
            "Requirement already satisfied: certifi>=2017.4.17 in /usr/local/lib/python3.10/dist-packages (from requests<3,>=2.27->gTTS) (2024.2.2)\n"
          ]
        }
      ]
    },
    {
      "cell_type": "code",
      "execution_count": null,
      "metadata": {
        "id": "f48QOwbbEGnV"
      },
      "outputs": [],
      "source": [
        "# Text to be converted to speech\n",
        "text = \"This is a test message.\"\n",
        "\n",
        "# Language in which you want to convert\n",
        "language = 'en'\n",
        "\n",
        "# Pass the text and language to the gTTS module\n",
        "speech = gTTS(text = text, lang = language, slow = False)\n",
        "\n",
        "# Save the converted audio file\n",
        "speech.save(\"output.mp3\")\n",
        "\n",
        "# Display the audio directly in the notebook\n",
        "display(Audio(\"output.mp3\", autoplay=True))\n"
      ]
    },
    {
      "cell_type": "markdown",
      "source": [
        "## 😍 We need to use input function to get a text from the user.\n",
        "\n",
        "So, change:\n",
        "\n",
        "text = \"This is a test message\"\n",
        "\n",
        "Into:\n",
        "\n",
        "text = input()"
      ],
      "metadata": {
        "id": "gGXrgKmvuQ-o"
      }
    },
    {
      "cell_type": "code",
      "source": [
        "# Text to be converted to speech\n",
        "text = input()\n",
        "\n",
        "# Language in which you want to convert\n",
        "language = 'en'\n",
        "\n",
        "# Pass the text and language to the gTTS module\n",
        "speech = gTTS(text = text, lang = language, slow = False)\n",
        "\n",
        "# Save the converted audio file\n",
        "speech.save(\"output.mp3\")\n",
        "\n",
        "# Display the audio directly in the notebook\n",
        "display(Audio(\"output.mp3\", autoplay=True))"
      ],
      "metadata": {
        "id": "Z0guhyHauiYJ"
      },
      "execution_count": null,
      "outputs": []
    },
    {
      "cell_type": "markdown",
      "source": [
        "😍 To run the code below, we need to install gradio before import it.\n",
        "\n",
        "```\n",
        "!pip install gradio\n",
        "```"
      ],
      "metadata": {
        "id": "jfWzdG-xukTc"
      }
    },
    {
      "cell_type": "code",
      "source": [
        "!pip install gradio"
      ],
      "metadata": {
        "id": "s2jMcCwIuyhB",
        "outputId": "6e529f69-26d2-4ba1-9403-de6a2df9de87",
        "colab": {
          "base_uri": "https://localhost:8080/"
        }
      },
      "execution_count": 13,
      "outputs": [
        {
          "output_type": "stream",
          "name": "stdout",
          "text": [
            "Collecting gradio\n",
            "  Downloading gradio-4.28.3-py3-none-any.whl (12.2 MB)\n",
            "\u001b[2K     \u001b[90m━━━━━━━━━━━━━━━━━━━━━━━━━━━━━━━━━━━━━━━━\u001b[0m \u001b[32m12.2/12.2 MB\u001b[0m \u001b[31m42.9 MB/s\u001b[0m eta \u001b[36m0:00:00\u001b[0m\n",
            "\u001b[?25hCollecting aiofiles<24.0,>=22.0 (from gradio)\n",
            "  Downloading aiofiles-23.2.1-py3-none-any.whl (15 kB)\n",
            "Requirement already satisfied: altair<6.0,>=4.2.0 in /usr/local/lib/python3.10/dist-packages (from gradio) (4.2.2)\n",
            "Collecting fastapi (from gradio)\n",
            "  Downloading fastapi-0.110.3-py3-none-any.whl (91 kB)\n",
            "\u001b[2K     \u001b[90m━━━━━━━━━━━━━━━━━━━━━━━━━━━━━━━━━━━━━━━━\u001b[0m \u001b[32m91.8/91.8 kB\u001b[0m \u001b[31m8.7 MB/s\u001b[0m eta \u001b[36m0:00:00\u001b[0m\n",
            "\u001b[?25hCollecting ffmpy (from gradio)\n",
            "  Downloading ffmpy-0.3.2.tar.gz (5.5 kB)\n",
            "  Preparing metadata (setup.py) ... \u001b[?25l\u001b[?25hdone\n",
            "Collecting gradio-client==0.16.0 (from gradio)\n",
            "  Downloading gradio_client-0.16.0-py3-none-any.whl (314 kB)\n",
            "\u001b[2K     \u001b[90m━━━━━━━━━━━━━━━━━━━━━━━━━━━━━━━━━━━━━━━━\u001b[0m \u001b[32m314.4/314.4 kB\u001b[0m \u001b[31m22.3 MB/s\u001b[0m eta \u001b[36m0:00:00\u001b[0m\n",
            "\u001b[?25hCollecting httpx>=0.24.1 (from gradio)\n",
            "  Downloading httpx-0.27.0-py3-none-any.whl (75 kB)\n",
            "\u001b[2K     \u001b[90m━━━━━━━━━━━━━━━━━━━━━━━━━━━━━━━━━━━━━━━━\u001b[0m \u001b[32m75.6/75.6 kB\u001b[0m \u001b[31m8.0 MB/s\u001b[0m eta \u001b[36m0:00:00\u001b[0m\n",
            "\u001b[?25hRequirement already satisfied: huggingface-hub>=0.19.3 in /usr/local/lib/python3.10/dist-packages (from gradio) (0.20.3)\n",
            "Requirement already satisfied: importlib-resources<7.0,>=1.3 in /usr/local/lib/python3.10/dist-packages (from gradio) (6.4.0)\n",
            "Requirement already satisfied: jinja2<4.0 in /usr/local/lib/python3.10/dist-packages (from gradio) (3.1.3)\n",
            "Requirement already satisfied: markupsafe~=2.0 in /usr/local/lib/python3.10/dist-packages (from gradio) (2.1.5)\n",
            "Requirement already satisfied: matplotlib~=3.0 in /usr/local/lib/python3.10/dist-packages (from gradio) (3.7.1)\n",
            "Requirement already satisfied: numpy~=1.0 in /usr/local/lib/python3.10/dist-packages (from gradio) (1.25.2)\n",
            "Collecting orjson~=3.0 (from gradio)\n",
            "  Downloading orjson-3.10.1-cp310-cp310-manylinux_2_17_x86_64.manylinux2014_x86_64.whl (141 kB)\n",
            "\u001b[2K     \u001b[90m━━━━━━━━━━━━━━━━━━━━━━━━━━━━━━━━━━━━━━━━\u001b[0m \u001b[32m141.1/141.1 kB\u001b[0m \u001b[31m13.3 MB/s\u001b[0m eta \u001b[36m0:00:00\u001b[0m\n",
            "\u001b[?25hRequirement already satisfied: packaging in /usr/local/lib/python3.10/dist-packages (from gradio) (24.0)\n",
            "Requirement already satisfied: pandas<3.0,>=1.0 in /usr/local/lib/python3.10/dist-packages (from gradio) (2.0.3)\n",
            "Requirement already satisfied: pillow<11.0,>=8.0 in /usr/local/lib/python3.10/dist-packages (from gradio) (9.4.0)\n",
            "Requirement already satisfied: pydantic>=2.0 in /usr/local/lib/python3.10/dist-packages (from gradio) (2.7.0)\n",
            "Collecting pydub (from gradio)\n",
            "  Downloading pydub-0.25.1-py2.py3-none-any.whl (32 kB)\n",
            "Collecting python-multipart>=0.0.9 (from gradio)\n",
            "  Downloading python_multipart-0.0.9-py3-none-any.whl (22 kB)\n",
            "Requirement already satisfied: pyyaml<7.0,>=5.0 in /usr/local/lib/python3.10/dist-packages (from gradio) (6.0.1)\n",
            "Collecting ruff>=0.2.2 (from gradio)\n",
            "  Downloading ruff-0.4.2-py3-none-manylinux_2_17_x86_64.manylinux2014_x86_64.whl (8.8 MB)\n",
            "\u001b[2K     \u001b[90m━━━━━━━━━━━━━━━━━━━━━━━━━━━━━━━━━━━━━━━━\u001b[0m \u001b[32m8.8/8.8 MB\u001b[0m \u001b[31m48.0 MB/s\u001b[0m eta \u001b[36m0:00:00\u001b[0m\n",
            "\u001b[?25hCollecting semantic-version~=2.0 (from gradio)\n",
            "  Downloading semantic_version-2.10.0-py2.py3-none-any.whl (15 kB)\n",
            "Collecting tomlkit==0.12.0 (from gradio)\n",
            "  Downloading tomlkit-0.12.0-py3-none-any.whl (37 kB)\n",
            "Collecting typer<1.0,>=0.12 (from gradio)\n",
            "  Downloading typer-0.12.3-py3-none-any.whl (47 kB)\n",
            "\u001b[2K     \u001b[90m━━━━━━━━━━━━━━━━━━━━━━━━━━━━━━━━━━━━━━━━\u001b[0m \u001b[32m47.2/47.2 kB\u001b[0m \u001b[31m4.9 MB/s\u001b[0m eta \u001b[36m0:00:00\u001b[0m\n",
            "\u001b[?25hRequirement already satisfied: typing-extensions~=4.0 in /usr/local/lib/python3.10/dist-packages (from gradio) (4.11.0)\n",
            "Requirement already satisfied: urllib3~=2.0 in /usr/local/lib/python3.10/dist-packages (from gradio) (2.0.7)\n",
            "Collecting uvicorn>=0.14.0 (from gradio)\n",
            "  Downloading uvicorn-0.29.0-py3-none-any.whl (60 kB)\n",
            "\u001b[2K     \u001b[90m━━━━━━━━━━━━━━━━━━━━━━━━━━━━━━━━━━━━━━━━\u001b[0m \u001b[32m60.8/60.8 kB\u001b[0m \u001b[31m5.7 MB/s\u001b[0m eta \u001b[36m0:00:00\u001b[0m\n",
            "\u001b[?25hRequirement already satisfied: fsspec in /usr/local/lib/python3.10/dist-packages (from gradio-client==0.16.0->gradio) (2023.6.0)\n",
            "Collecting websockets<12.0,>=10.0 (from gradio-client==0.16.0->gradio)\n",
            "  Downloading websockets-11.0.3-cp310-cp310-manylinux_2_5_x86_64.manylinux1_x86_64.manylinux_2_17_x86_64.manylinux2014_x86_64.whl (129 kB)\n",
            "\u001b[2K     \u001b[90m━━━━━━━━━━━━━━━━━━━━━━━━━━━━━━━━━━━━━━━━\u001b[0m \u001b[32m129.9/129.9 kB\u001b[0m \u001b[31m11.5 MB/s\u001b[0m eta \u001b[36m0:00:00\u001b[0m\n",
            "\u001b[?25hRequirement already satisfied: entrypoints in /usr/local/lib/python3.10/dist-packages (from altair<6.0,>=4.2.0->gradio) (0.4)\n",
            "Requirement already satisfied: jsonschema>=3.0 in /usr/local/lib/python3.10/dist-packages (from altair<6.0,>=4.2.0->gradio) (4.19.2)\n",
            "Requirement already satisfied: toolz in /usr/local/lib/python3.10/dist-packages (from altair<6.0,>=4.2.0->gradio) (0.12.1)\n",
            "Requirement already satisfied: anyio in /usr/local/lib/python3.10/dist-packages (from httpx>=0.24.1->gradio) (3.7.1)\n",
            "Requirement already satisfied: certifi in /usr/local/lib/python3.10/dist-packages (from httpx>=0.24.1->gradio) (2024.2.2)\n",
            "Collecting httpcore==1.* (from httpx>=0.24.1->gradio)\n",
            "  Downloading httpcore-1.0.5-py3-none-any.whl (77 kB)\n",
            "\u001b[2K     \u001b[90m━━━━━━━━━━━━━━━━━━━━━━━━━━━━━━━━━━━━━━━━\u001b[0m \u001b[32m77.9/77.9 kB\u001b[0m \u001b[31m7.8 MB/s\u001b[0m eta \u001b[36m0:00:00\u001b[0m\n",
            "\u001b[?25hRequirement already satisfied: idna in /usr/local/lib/python3.10/dist-packages (from httpx>=0.24.1->gradio) (3.7)\n",
            "Requirement already satisfied: sniffio in /usr/local/lib/python3.10/dist-packages (from httpx>=0.24.1->gradio) (1.3.1)\n",
            "Collecting h11<0.15,>=0.13 (from httpcore==1.*->httpx>=0.24.1->gradio)\n",
            "  Downloading h11-0.14.0-py3-none-any.whl (58 kB)\n",
            "\u001b[2K     \u001b[90m━━━━━━━━━━━━━━━━━━━━━━━━━━━━━━━━━━━━━━━━\u001b[0m \u001b[32m58.3/58.3 kB\u001b[0m \u001b[31m6.3 MB/s\u001b[0m eta \u001b[36m0:00:00\u001b[0m\n",
            "\u001b[?25hRequirement already satisfied: filelock in /usr/local/lib/python3.10/dist-packages (from huggingface-hub>=0.19.3->gradio) (3.13.4)\n",
            "Requirement already satisfied: requests in /usr/local/lib/python3.10/dist-packages (from huggingface-hub>=0.19.3->gradio) (2.31.0)\n",
            "Requirement already satisfied: tqdm>=4.42.1 in /usr/local/lib/python3.10/dist-packages (from huggingface-hub>=0.19.3->gradio) (4.66.2)\n",
            "Requirement already satisfied: contourpy>=1.0.1 in /usr/local/lib/python3.10/dist-packages (from matplotlib~=3.0->gradio) (1.2.1)\n",
            "Requirement already satisfied: cycler>=0.10 in /usr/local/lib/python3.10/dist-packages (from matplotlib~=3.0->gradio) (0.12.1)\n",
            "Requirement already satisfied: fonttools>=4.22.0 in /usr/local/lib/python3.10/dist-packages (from matplotlib~=3.0->gradio) (4.51.0)\n",
            "Requirement already satisfied: kiwisolver>=1.0.1 in /usr/local/lib/python3.10/dist-packages (from matplotlib~=3.0->gradio) (1.4.5)\n",
            "Requirement already satisfied: pyparsing>=2.3.1 in /usr/local/lib/python3.10/dist-packages (from matplotlib~=3.0->gradio) (3.1.2)\n",
            "Requirement already satisfied: python-dateutil>=2.7 in /usr/local/lib/python3.10/dist-packages (from matplotlib~=3.0->gradio) (2.8.2)\n",
            "Requirement already satisfied: pytz>=2020.1 in /usr/local/lib/python3.10/dist-packages (from pandas<3.0,>=1.0->gradio) (2023.4)\n",
            "Requirement already satisfied: tzdata>=2022.1 in /usr/local/lib/python3.10/dist-packages (from pandas<3.0,>=1.0->gradio) (2024.1)\n",
            "Requirement already satisfied: annotated-types>=0.4.0 in /usr/local/lib/python3.10/dist-packages (from pydantic>=2.0->gradio) (0.6.0)\n",
            "Requirement already satisfied: pydantic-core==2.18.1 in /usr/local/lib/python3.10/dist-packages (from pydantic>=2.0->gradio) (2.18.1)\n",
            "Requirement already satisfied: click>=8.0.0 in /usr/local/lib/python3.10/dist-packages (from typer<1.0,>=0.12->gradio) (8.1.7)\n",
            "Collecting shellingham>=1.3.0 (from typer<1.0,>=0.12->gradio)\n",
            "  Downloading shellingham-1.5.4-py2.py3-none-any.whl (9.8 kB)\n",
            "Requirement already satisfied: rich>=10.11.0 in /usr/local/lib/python3.10/dist-packages (from typer<1.0,>=0.12->gradio) (13.7.1)\n",
            "Collecting starlette<0.38.0,>=0.37.2 (from fastapi->gradio)\n",
            "  Downloading starlette-0.37.2-py3-none-any.whl (71 kB)\n",
            "\u001b[2K     \u001b[90m━━━━━━━━━━━━━━━━━━━━━━━━━━━━━━━━━━━━━━━━\u001b[0m \u001b[32m71.9/71.9 kB\u001b[0m \u001b[31m7.9 MB/s\u001b[0m eta \u001b[36m0:00:00\u001b[0m\n",
            "\u001b[?25hRequirement already satisfied: attrs>=22.2.0 in /usr/local/lib/python3.10/dist-packages (from jsonschema>=3.0->altair<6.0,>=4.2.0->gradio) (23.2.0)\n",
            "Requirement already satisfied: jsonschema-specifications>=2023.03.6 in /usr/local/lib/python3.10/dist-packages (from jsonschema>=3.0->altair<6.0,>=4.2.0->gradio) (2023.12.1)\n",
            "Requirement already satisfied: referencing>=0.28.4 in /usr/local/lib/python3.10/dist-packages (from jsonschema>=3.0->altair<6.0,>=4.2.0->gradio) (0.34.0)\n",
            "Requirement already satisfied: rpds-py>=0.7.1 in /usr/local/lib/python3.10/dist-packages (from jsonschema>=3.0->altair<6.0,>=4.2.0->gradio) (0.18.0)\n",
            "Requirement already satisfied: six>=1.5 in /usr/local/lib/python3.10/dist-packages (from python-dateutil>=2.7->matplotlib~=3.0->gradio) (1.16.0)\n",
            "Requirement already satisfied: markdown-it-py>=2.2.0 in /usr/local/lib/python3.10/dist-packages (from rich>=10.11.0->typer<1.0,>=0.12->gradio) (3.0.0)\n",
            "Requirement already satisfied: pygments<3.0.0,>=2.13.0 in /usr/local/lib/python3.10/dist-packages (from rich>=10.11.0->typer<1.0,>=0.12->gradio) (2.16.1)\n",
            "Requirement already satisfied: exceptiongroup in /usr/local/lib/python3.10/dist-packages (from anyio->httpx>=0.24.1->gradio) (1.2.1)\n",
            "Requirement already satisfied: charset-normalizer<4,>=2 in /usr/local/lib/python3.10/dist-packages (from requests->huggingface-hub>=0.19.3->gradio) (3.3.2)\n",
            "Requirement already satisfied: mdurl~=0.1 in /usr/local/lib/python3.10/dist-packages (from markdown-it-py>=2.2.0->rich>=10.11.0->typer<1.0,>=0.12->gradio) (0.1.2)\n",
            "Building wheels for collected packages: ffmpy\n",
            "  Building wheel for ffmpy (setup.py) ... \u001b[?25l\u001b[?25hdone\n",
            "  Created wheel for ffmpy: filename=ffmpy-0.3.2-py3-none-any.whl size=5584 sha256=b14401f4dbc89576862c0e5dcbe653808e888b7c4aa3be3fd9fa46be14199c69\n",
            "  Stored in directory: /root/.cache/pip/wheels/bd/65/9a/671fc6dcde07d4418df0c592f8df512b26d7a0029c2a23dd81\n",
            "Successfully built ffmpy\n",
            "Installing collected packages: pydub, ffmpy, websockets, tomlkit, shellingham, semantic-version, ruff, python-multipart, orjson, h11, aiofiles, uvicorn, starlette, httpcore, typer, httpx, fastapi, gradio-client, gradio\n",
            "  Attempting uninstall: typer\n",
            "    Found existing installation: typer 0.9.4\n",
            "    Uninstalling typer-0.9.4:\n",
            "      Successfully uninstalled typer-0.9.4\n",
            "\u001b[31mERROR: pip's dependency resolver does not currently take into account all the packages that are installed. This behaviour is the source of the following dependency conflicts.\n",
            "spacy 3.7.4 requires typer<0.10.0,>=0.3.0, but you have typer 0.12.3 which is incompatible.\n",
            "weasel 0.3.4 requires typer<0.10.0,>=0.3.0, but you have typer 0.12.3 which is incompatible.\u001b[0m\u001b[31m\n",
            "\u001b[0mSuccessfully installed aiofiles-23.2.1 fastapi-0.110.3 ffmpy-0.3.2 gradio-4.28.3 gradio-client-0.16.0 h11-0.14.0 httpcore-1.0.5 httpx-0.27.0 orjson-3.10.1 pydub-0.25.1 python-multipart-0.0.9 ruff-0.4.2 semantic-version-2.10.0 shellingham-1.5.4 starlette-0.37.2 tomlkit-0.12.0 typer-0.12.3 uvicorn-0.29.0 websockets-11.0.3\n"
          ]
        }
      ]
    },
    {
      "cell_type": "markdown",
      "source": [
        "😍Now the code below works well."
      ],
      "metadata": {
        "id": "JzcrqhyHu3pv"
      }
    },
    {
      "cell_type": "code",
      "source": [
        "import gradio as gr\n",
        "from gtts import gTTS\n",
        "import os\n",
        "\n",
        "def text_to_speech(text, language):\n",
        "    lang_code = 'en' if language == \"English\" else 'ko'\n",
        "    tts = gTTS(text=text, lang=lang_code, slow=False)\n",
        "    tts.save(\"output.mp3\")\n",
        "    return \"output.mp3\"\n",
        "\n",
        "interface = gr.Interface(\n",
        "    fn=text_to_speech,\n",
        "    inputs=[\n",
        "        gr.Textbox(lines=3, label=\"Enter text\"),\n",
        "        gr.Radio(choices=[\"English\", \"Korean\"], label=\"Select language\")\n",
        "    ],\n",
        "    outputs=gr.Audio(type=\"filepath\", label=\"Audio\"),\n",
        "    title=\"Text-to-Speech\",\n",
        "    description=\"Type in some text, select a language, and generate audio.\",\n",
        ")\n",
        "\n",
        "interface.launch()\n"
      ],
      "metadata": {
        "id": "SNCRdsaALhd3",
        "outputId": "69e47870-e886-4871-faf9-6b6cfa2cb9f5",
        "colab": {
          "base_uri": "https://localhost:8080/",
          "height": 625
        }
      },
      "execution_count": 14,
      "outputs": [
        {
          "output_type": "stream",
          "name": "stdout",
          "text": [
            "Setting queue=True in a Colab notebook requires sharing enabled. Setting `share=True` (you can turn this off by setting `share=False` in `launch()` explicitly).\n",
            "\n",
            "Colab notebook detected. To show errors in colab notebook, set debug=True in launch()\n",
            "Running on public URL: https://4963be8d890a7e7d82.gradio.live\n",
            "\n",
            "This share link expires in 72 hours. For free permanent hosting and GPU upgrades, run `gradio deploy` from Terminal to deploy to Spaces (https://huggingface.co/spaces)\n"
          ]
        },
        {
          "output_type": "display_data",
          "data": {
            "text/plain": [
              "<IPython.core.display.HTML object>"
            ],
            "text/html": [
              "<div><iframe src=\"https://4963be8d890a7e7d82.gradio.live\" width=\"100%\" height=\"500\" allow=\"autoplay; camera; microphone; clipboard-read; clipboard-write;\" frameborder=\"0\" allowfullscreen></iframe></div>"
            ]
          },
          "metadata": {}
        },
        {
          "output_type": "execute_result",
          "data": {
            "text/plain": []
          },
          "metadata": {},
          "execution_count": 14
        }
      ]
    },
    {
      "cell_type": "markdown",
      "source": [
        "---\n",
        "The end (😍Good job!)"
      ],
      "metadata": {
        "id": "RASz3C-7u-ud"
      }
    }
  ]
}